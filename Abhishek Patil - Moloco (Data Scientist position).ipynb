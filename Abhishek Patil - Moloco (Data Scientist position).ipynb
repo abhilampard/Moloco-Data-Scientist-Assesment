{
 "cells": [
  {
   "cell_type": "markdown",
   "metadata": {},
   "source": [
    "# MOLOCO Data Scientist Assesment- Abhishek Patil"
   ]
  },
  {
   "cell_type": "markdown",
   "metadata": {},
   "source": [
    "### Contents:\n",
    "* [Load Dataset](#Load-Dataset)\n",
    "* [Part 1](#Part-1)\n",
    "    * [Question 1 (a)](#Question-1-(a))\n",
    "    * [Question 1 (b)](#Question-1-(b))\n",
    "    * [Question 1 (c)](#Question-1-(c))\n",
    "    * [Question 1 (d)](#Question-1-(d))"
   ]
  },
  {
   "cell_type": "markdown",
   "metadata": {},
   "source": [
    "# Load Dataset "
   ]
  },
  {
   "cell_type": "code",
   "execution_count": null,
   "metadata": {},
   "outputs": [],
   "source": [
    "import pandas as pd\n",
    "import os\n",
    "from pathlib import Path\n",
    "path = Path(os.getcwd())"
   ]
  },
  {
   "cell_type": "code",
   "execution_count": 2,
   "metadata": {},
   "outputs": [],
   "source": [
    "df_1 = pd.read_excel('Adops & Data Scientist Sample Data.xlsx', sheet_name = 0)\n",
    "df_2 = pd.read_excel('Adops & Data Scientist Sample Data.xlsx', sheet_name = 1, header = None)"
   ]
  },
  {
   "cell_type": "markdown",
   "metadata": {},
   "source": [
    "# Part 1"
   ]
  },
  {
   "cell_type": "code",
   "execution_count": 19,
   "metadata": {},
   "outputs": [
    {
     "data": {
      "text/html": [
       "<div>\n",
       "<style scoped>\n",
       "    .dataframe tbody tr th:only-of-type {\n",
       "        vertical-align: middle;\n",
       "    }\n",
       "\n",
       "    .dataframe tbody tr th {\n",
       "        vertical-align: top;\n",
       "    }\n",
       "\n",
       "    .dataframe thead th {\n",
       "        text-align: right;\n",
       "    }\n",
       "</style>\n",
       "<table border=\"1\" class=\"dataframe\">\n",
       "  <thead>\n",
       "    <tr style=\"text-align: right;\">\n",
       "      <th></th>\n",
       "      <th>ts</th>\n",
       "      <th>user_id</th>\n",
       "      <th>country_id</th>\n",
       "      <th>site_id</th>\n",
       "    </tr>\n",
       "  </thead>\n",
       "  <tbody>\n",
       "    <tr>\n",
       "      <th>0</th>\n",
       "      <td>2019-02-01 00:01:24</td>\n",
       "      <td>LC36FC</td>\n",
       "      <td>TL6</td>\n",
       "      <td>N0OTG</td>\n",
       "    </tr>\n",
       "    <tr>\n",
       "      <th>1</th>\n",
       "      <td>2019-02-01 00:10:19</td>\n",
       "      <td>LC39B6</td>\n",
       "      <td>TL6</td>\n",
       "      <td>N0OTG</td>\n",
       "    </tr>\n",
       "    <tr>\n",
       "      <th>2</th>\n",
       "      <td>2019-02-01 00:21:50</td>\n",
       "      <td>LC3500</td>\n",
       "      <td>TL6</td>\n",
       "      <td>N0OTG</td>\n",
       "    </tr>\n",
       "    <tr>\n",
       "      <th>3</th>\n",
       "      <td>2019-02-01 00:22:50</td>\n",
       "      <td>LC374F</td>\n",
       "      <td>TL6</td>\n",
       "      <td>N0OTG</td>\n",
       "    </tr>\n",
       "    <tr>\n",
       "      <th>4</th>\n",
       "      <td>2019-02-01 00:23:44</td>\n",
       "      <td>LCC1C3</td>\n",
       "      <td>TL6</td>\n",
       "      <td>QGO3G</td>\n",
       "    </tr>\n",
       "  </tbody>\n",
       "</table>\n",
       "</div>"
      ],
      "text/plain": [
       "                   ts user_id country_id site_id\n",
       "0 2019-02-01 00:01:24  LC36FC        TL6   N0OTG\n",
       "1 2019-02-01 00:10:19  LC39B6        TL6   N0OTG\n",
       "2 2019-02-01 00:21:50  LC3500        TL6   N0OTG\n",
       "3 2019-02-01 00:22:50  LC374F        TL6   N0OTG\n",
       "4 2019-02-01 00:23:44  LCC1C3        TL6   QGO3G"
      ]
     },
     "execution_count": 19,
     "metadata": {},
     "output_type": "execute_result"
    }
   ],
   "source": [
    "df_1.head()"
   ]
  },
  {
   "cell_type": "code",
   "execution_count": 5,
   "metadata": {},
   "outputs": [
    {
     "data": {
      "text/plain": [
       "ts            0\n",
       "user_id       0\n",
       "country_id    0\n",
       "site_id       0\n",
       "dtype: int64"
      ]
     },
     "execution_count": 5,
     "metadata": {},
     "output_type": "execute_result"
    }
   ],
   "source": [
    "# Check for missing values\n",
    "df_1.isna().sum()"
   ]
  },
  {
   "cell_type": "markdown",
   "metadata": {},
   "source": [
    "## Question 1 (a)"
   ]
  },
  {
   "cell_type": "code",
   "execution_count": 6,
   "metadata": {},
   "outputs": [
    {
     "data": {
      "text/plain": [
       "844"
      ]
     },
     "execution_count": 6,
     "metadata": {},
     "output_type": "execute_result"
    }
   ],
   "source": [
    "df_1_BDV = df_1[df_1['country_id'] == 'BDV']\n",
    "len(df_1_BDV)"
   ]
  },
  {
   "cell_type": "code",
   "execution_count": 15,
   "metadata": {},
   "outputs": [
    {
     "data": {
      "text/plain": [
       "site_id\n",
       "5NPAU    544\n",
       "N0OTG     90\n",
       "3POLC      2\n",
       "Name: user_id, dtype: int64"
      ]
     },
     "execution_count": 15,
     "metadata": {},
     "output_type": "execute_result"
    }
   ],
   "source": [
    "df_1_BDV.groupby('site_id')['user_id'].nunique().sort_values(ascending = False)"
   ]
  },
  {
   "cell_type": "markdown",
   "metadata": {},
   "source": [
    "\"5NPAU\" has the highest number of unique visitors (544)."
   ]
  },
  {
   "cell_type": "markdown",
   "metadata": {},
   "source": [
    "## Question 1 (b)"
   ]
  },
  {
   "cell_type": "code",
   "execution_count": 8,
   "metadata": {},
   "outputs": [
    {
     "name": "stdout",
     "output_type": "stream",
     "text": [
      "object\n",
      "datetime64[ns]\n"
     ]
    }
   ],
   "source": [
    "print(df_1['ts'].dtype)\n",
    "df_1['ts'] = pd.to_datetime(df_1['ts'])\n",
    "print(df_1['ts'].dtype)"
   ]
  },
  {
   "cell_type": "code",
   "execution_count": 9,
   "metadata": {},
   "outputs": [
    {
     "data": {
      "text/html": [
       "<div>\n",
       "<style scoped>\n",
       "    .dataframe tbody tr th:only-of-type {\n",
       "        vertical-align: middle;\n",
       "    }\n",
       "\n",
       "    .dataframe tbody tr th {\n",
       "        vertical-align: top;\n",
       "    }\n",
       "\n",
       "    .dataframe thead th {\n",
       "        text-align: right;\n",
       "    }\n",
       "</style>\n",
       "<table border=\"1\" class=\"dataframe\">\n",
       "  <thead>\n",
       "    <tr style=\"text-align: right;\">\n",
       "      <th></th>\n",
       "      <th>ts</th>\n",
       "      <th>user_id</th>\n",
       "      <th>country_id</th>\n",
       "      <th>site_id</th>\n",
       "    </tr>\n",
       "  </thead>\n",
       "  <tbody>\n",
       "    <tr>\n",
       "      <th>1049</th>\n",
       "      <td>2019-02-03 00:02:31</td>\n",
       "      <td>LC3C7E</td>\n",
       "      <td>TL6</td>\n",
       "      <td>3POLC</td>\n",
       "    </tr>\n",
       "    <tr>\n",
       "      <th>1050</th>\n",
       "      <td>2019-02-03 00:03:09</td>\n",
       "      <td>LC3C7E</td>\n",
       "      <td>TL6</td>\n",
       "      <td>3POLC</td>\n",
       "    </tr>\n",
       "    <tr>\n",
       "      <th>1051</th>\n",
       "      <td>2019-02-03 00:03:46</td>\n",
       "      <td>LC3C7E</td>\n",
       "      <td>TL6</td>\n",
       "      <td>3POLC</td>\n",
       "    </tr>\n",
       "    <tr>\n",
       "      <th>1052</th>\n",
       "      <td>2019-02-03 00:04:12</td>\n",
       "      <td>LC3C7E</td>\n",
       "      <td>TL6</td>\n",
       "      <td>3POLC</td>\n",
       "    </tr>\n",
       "    <tr>\n",
       "      <th>1053</th>\n",
       "      <td>2019-02-03 00:04:25</td>\n",
       "      <td>LC3C7E</td>\n",
       "      <td>TL6</td>\n",
       "      <td>3POLC</td>\n",
       "    </tr>\n",
       "    <tr>\n",
       "      <th>...</th>\n",
       "      <td>...</td>\n",
       "      <td>...</td>\n",
       "      <td>...</td>\n",
       "      <td>...</td>\n",
       "    </tr>\n",
       "    <tr>\n",
       "      <th>2075</th>\n",
       "      <td>2019-02-04 23:54:56</td>\n",
       "      <td>LC34B0</td>\n",
       "      <td>XA7</td>\n",
       "      <td>N0OTG</td>\n",
       "    </tr>\n",
       "    <tr>\n",
       "      <th>2076</th>\n",
       "      <td>2019-02-04 23:55:46</td>\n",
       "      <td>LC3DEA</td>\n",
       "      <td>TL6</td>\n",
       "      <td>N0OTG</td>\n",
       "    </tr>\n",
       "    <tr>\n",
       "      <th>2077</th>\n",
       "      <td>2019-02-04 23:56:12</td>\n",
       "      <td>LC06C3</td>\n",
       "      <td>TL6</td>\n",
       "      <td>N0OTG</td>\n",
       "    </tr>\n",
       "    <tr>\n",
       "      <th>2078</th>\n",
       "      <td>2019-02-04 23:56:54</td>\n",
       "      <td>LC06C3</td>\n",
       "      <td>TL6</td>\n",
       "      <td>N0OTG</td>\n",
       "    </tr>\n",
       "    <tr>\n",
       "      <th>2079</th>\n",
       "      <td>2019-02-04 23:57:03</td>\n",
       "      <td>LC06C3</td>\n",
       "      <td>TL6</td>\n",
       "      <td>N0OTG</td>\n",
       "    </tr>\n",
       "  </tbody>\n",
       "</table>\n",
       "<p>1031 rows × 4 columns</p>\n",
       "</div>"
      ],
      "text/plain": [
       "                      ts user_id country_id site_id\n",
       "1049 2019-02-03 00:02:31  LC3C7E        TL6   3POLC\n",
       "1050 2019-02-03 00:03:09  LC3C7E        TL6   3POLC\n",
       "1051 2019-02-03 00:03:46  LC3C7E        TL6   3POLC\n",
       "1052 2019-02-03 00:04:12  LC3C7E        TL6   3POLC\n",
       "1053 2019-02-03 00:04:25  LC3C7E        TL6   3POLC\n",
       "...                  ...     ...        ...     ...\n",
       "2075 2019-02-04 23:54:56  LC34B0        XA7   N0OTG\n",
       "2076 2019-02-04 23:55:46  LC3DEA        TL6   N0OTG\n",
       "2077 2019-02-04 23:56:12  LC06C3        TL6   N0OTG\n",
       "2078 2019-02-04 23:56:54  LC06C3        TL6   N0OTG\n",
       "2079 2019-02-04 23:57:03  LC06C3        TL6   N0OTG\n",
       "\n",
       "[1031 rows x 4 columns]"
      ]
     },
     "execution_count": 9,
     "metadata": {},
     "output_type": "execute_result"
    }
   ],
   "source": [
    "df_temp = df_1[(df_1['ts'] >= '2019-02-03 00:00:00') & (df_1['ts'] <= '2019-02-04 23:59:59')]\n",
    "df_temp"
   ]
  },
  {
   "cell_type": "code",
   "execution_count": 10,
   "metadata": {},
   "outputs": [
    {
     "data": {
      "text/html": [
       "<div>\n",
       "<style scoped>\n",
       "    .dataframe tbody tr th:only-of-type {\n",
       "        vertical-align: middle;\n",
       "    }\n",
       "\n",
       "    .dataframe tbody tr th {\n",
       "        vertical-align: top;\n",
       "    }\n",
       "\n",
       "    .dataframe thead th {\n",
       "        text-align: right;\n",
       "    }\n",
       "</style>\n",
       "<table border=\"1\" class=\"dataframe\">\n",
       "  <thead>\n",
       "    <tr style=\"text-align: right;\">\n",
       "      <th></th>\n",
       "      <th>user_id</th>\n",
       "      <th>site_id</th>\n",
       "      <th>number of visits</th>\n",
       "    </tr>\n",
       "  </thead>\n",
       "  <tbody>\n",
       "    <tr>\n",
       "      <th>3</th>\n",
       "      <td>LC06C3</td>\n",
       "      <td>N0OTG</td>\n",
       "      <td>25</td>\n",
       "    </tr>\n",
       "    <tr>\n",
       "      <th>417</th>\n",
       "      <td>LC3A59</td>\n",
       "      <td>N0OTG</td>\n",
       "      <td>26</td>\n",
       "    </tr>\n",
       "    <tr>\n",
       "      <th>485</th>\n",
       "      <td>LC3C7E</td>\n",
       "      <td>3POLC</td>\n",
       "      <td>15</td>\n",
       "    </tr>\n",
       "    <tr>\n",
       "      <th>493</th>\n",
       "      <td>LC3C9D</td>\n",
       "      <td>N0OTG</td>\n",
       "      <td>17</td>\n",
       "    </tr>\n",
       "  </tbody>\n",
       "</table>\n",
       "</div>"
      ],
      "text/plain": [
       "    user_id site_id  number of visits\n",
       "3    LC06C3   N0OTG                25\n",
       "417  LC3A59   N0OTG                26\n",
       "485  LC3C7E   3POLC                15\n",
       "493  LC3C9D   N0OTG                17"
      ]
     },
     "execution_count": 10,
     "metadata": {},
     "output_type": "execute_result"
    }
   ],
   "source": [
    "df_1_Q2 = df_temp.groupby(['user_id', 'site_id'])['ts'].count().reset_index()\n",
    "df_1_Q2.columns = ['user_id', 'site_id', 'number of visits']\n",
    "df_1_Q2[df_1_Q2['number of visits'] > 10]"
   ]
  },
  {
   "cell_type": "markdown",
   "metadata": {},
   "source": [
    "## Question 1 (c)"
   ]
  },
  {
   "cell_type": "code",
   "execution_count": 11,
   "metadata": {},
   "outputs": [
    {
     "data": {
      "text/html": [
       "<div>\n",
       "<style scoped>\n",
       "    .dataframe tbody tr th:only-of-type {\n",
       "        vertical-align: middle;\n",
       "    }\n",
       "\n",
       "    .dataframe tbody tr th {\n",
       "        vertical-align: top;\n",
       "    }\n",
       "\n",
       "    .dataframe thead th {\n",
       "        text-align: right;\n",
       "    }\n",
       "</style>\n",
       "<table border=\"1\" class=\"dataframe\">\n",
       "  <thead>\n",
       "    <tr style=\"text-align: right;\">\n",
       "      <th></th>\n",
       "      <th>site_id</th>\n",
       "      <th>num_of_users</th>\n",
       "    </tr>\n",
       "  </thead>\n",
       "  <tbody>\n",
       "    <tr>\n",
       "      <th>0</th>\n",
       "      <td>5NPAU</td>\n",
       "      <td>992</td>\n",
       "    </tr>\n",
       "    <tr>\n",
       "      <th>1</th>\n",
       "      <td>N0OTG</td>\n",
       "      <td>561</td>\n",
       "    </tr>\n",
       "    <tr>\n",
       "      <th>2</th>\n",
       "      <td>QGO3G</td>\n",
       "      <td>289</td>\n",
       "    </tr>\n",
       "  </tbody>\n",
       "</table>\n",
       "</div>"
      ],
      "text/plain": [
       "  site_id  num_of_users\n",
       "0   5NPAU           992\n",
       "1   N0OTG           561\n",
       "2   QGO3G           289"
      ]
     },
     "execution_count": 11,
     "metadata": {},
     "output_type": "execute_result"
    }
   ],
   "source": [
    "df_1_Q3 = df_1[['user_id','ts']].groupby('user_id').max()\n",
    "df_1_Q3 = df_1_Q3.merge(df_1, on=['ts','user_id'])\n",
    "df_1_Q3 = df_1_Q3.groupby('site_id').user_id.nunique()\n",
    "df_1_Q3 = df_1_Q3.reset_index().rename(columns={'user_id':'num_of_users'})\n",
    "df_1_Q3.sort_values(by = 'num_of_users', ascending = False).reset_index(drop=True).head(3)"
   ]
  },
  {
   "cell_type": "markdown",
   "metadata": {},
   "source": [
    "## Question 1 (d)"
   ]
  },
  {
   "cell_type": "code",
   "execution_count": 12,
   "metadata": {},
   "outputs": [
    {
     "data": {
      "text/html": [
       "<div>\n",
       "<style scoped>\n",
       "    .dataframe tbody tr th:only-of-type {\n",
       "        vertical-align: middle;\n",
       "    }\n",
       "\n",
       "    .dataframe tbody tr th {\n",
       "        vertical-align: top;\n",
       "    }\n",
       "\n",
       "    .dataframe thead th {\n",
       "        text-align: right;\n",
       "    }\n",
       "</style>\n",
       "<table border=\"1\" class=\"dataframe\">\n",
       "  <thead>\n",
       "    <tr style=\"text-align: right;\">\n",
       "      <th></th>\n",
       "      <th>ts_x</th>\n",
       "      <th>country_id_x</th>\n",
       "      <th>site_id</th>\n",
       "      <th>ts_y</th>\n",
       "      <th>country_id_y</th>\n",
       "    </tr>\n",
       "    <tr>\n",
       "      <th>user_id</th>\n",
       "      <th></th>\n",
       "      <th></th>\n",
       "      <th></th>\n",
       "      <th></th>\n",
       "      <th></th>\n",
       "    </tr>\n",
       "  </thead>\n",
       "  <tbody>\n",
       "    <tr>\n",
       "      <th>LC00C3</th>\n",
       "      <td>2019-02-03 18:52:50</td>\n",
       "      <td>QLT</td>\n",
       "      <td>5NPAU</td>\n",
       "      <td>2019-02-03 18:52:50</td>\n",
       "      <td>QLT</td>\n",
       "    </tr>\n",
       "    <tr>\n",
       "      <th>LC01C3</th>\n",
       "      <td>2019-02-04 11:35:10</td>\n",
       "      <td>QLT</td>\n",
       "      <td>5NPAU</td>\n",
       "      <td>2019-02-04 11:35:10</td>\n",
       "      <td>QLT</td>\n",
       "    </tr>\n",
       "    <tr>\n",
       "      <th>LC05C3</th>\n",
       "      <td>2019-02-02 14:14:44</td>\n",
       "      <td>BDV</td>\n",
       "      <td>5NPAU</td>\n",
       "      <td>2019-02-02 14:14:44</td>\n",
       "      <td>BDV</td>\n",
       "    </tr>\n",
       "    <tr>\n",
       "      <th>LC06C3</th>\n",
       "      <td>2019-02-01 22:49:39</td>\n",
       "      <td>TL6</td>\n",
       "      <td>N0OTG</td>\n",
       "      <td>2019-02-07 01:16:12</td>\n",
       "      <td>TL6</td>\n",
       "    </tr>\n",
       "    <tr>\n",
       "      <th>LC07C3</th>\n",
       "      <td>2019-02-05 19:06:42</td>\n",
       "      <td>BDV</td>\n",
       "      <td>5NPAU</td>\n",
       "      <td>2019-02-05 19:06:42</td>\n",
       "      <td>BDV</td>\n",
       "    </tr>\n",
       "  </tbody>\n",
       "</table>\n",
       "</div>"
      ],
      "text/plain": [
       "                       ts_x country_id_x site_id                ts_y  \\\n",
       "user_id                                                                \n",
       "LC00C3  2019-02-03 18:52:50          QLT   5NPAU 2019-02-03 18:52:50   \n",
       "LC01C3  2019-02-04 11:35:10          QLT   5NPAU 2019-02-04 11:35:10   \n",
       "LC05C3  2019-02-02 14:14:44          BDV   5NPAU 2019-02-02 14:14:44   \n",
       "LC06C3  2019-02-01 22:49:39          TL6   N0OTG 2019-02-07 01:16:12   \n",
       "LC07C3  2019-02-05 19:06:42          BDV   5NPAU 2019-02-05 19:06:42   \n",
       "\n",
       "        country_id_y  \n",
       "user_id               \n",
       "LC00C3           QLT  \n",
       "LC01C3           QLT  \n",
       "LC05C3           BDV  \n",
       "LC06C3           TL6  \n",
       "LC07C3           BDV  "
      ]
     },
     "execution_count": 12,
     "metadata": {},
     "output_type": "execute_result"
    }
   ],
   "source": [
    "df_1_first = df_1.groupby('user_id').first()\n",
    "df_1_last = df_1.groupby('user_id').last()\n",
    "\n",
    "df_result = df_1_first.merge(df_1_last, on=['user_id','site_id'], how='inner')\n",
    "df_result.head()"
   ]
  },
  {
   "cell_type": "code",
   "execution_count": 13,
   "metadata": {},
   "outputs": [
    {
     "data": {
      "text/plain": [
       "1670"
      ]
     },
     "execution_count": 13,
     "metadata": {},
     "output_type": "execute_result"
    }
   ],
   "source": [
    "len(df_result)"
   ]
  },
  {
   "cell_type": "markdown",
   "metadata": {},
   "source": [
    "# Part 2: Regression"
   ]
  },
  {
   "cell_type": "code",
   "execution_count": 20,
   "metadata": {},
   "outputs": [
    {
     "data": {
      "text/html": [
       "<div>\n",
       "<style scoped>\n",
       "    .dataframe tbody tr th:only-of-type {\n",
       "        vertical-align: middle;\n",
       "    }\n",
       "\n",
       "    .dataframe tbody tr th {\n",
       "        vertical-align: top;\n",
       "    }\n",
       "\n",
       "    .dataframe thead th {\n",
       "        text-align: right;\n",
       "    }\n",
       "</style>\n",
       "<table border=\"1\" class=\"dataframe\">\n",
       "  <thead>\n",
       "    <tr style=\"text-align: right;\">\n",
       "      <th></th>\n",
       "      <th>0</th>\n",
       "      <th>1</th>\n",
       "      <th>2</th>\n",
       "    </tr>\n",
       "  </thead>\n",
       "  <tbody>\n",
       "    <tr>\n",
       "      <th>0</th>\n",
       "      <td>0.490142</td>\n",
       "      <td>-0.179654</td>\n",
       "      <td>11.536508</td>\n",
       "    </tr>\n",
       "    <tr>\n",
       "      <th>1</th>\n",
       "      <td>-1.414793</td>\n",
       "      <td>-1.225605</td>\n",
       "      <td>11.828531</td>\n",
       "    </tr>\n",
       "    <tr>\n",
       "      <th>2</th>\n",
       "      <td>0.943066</td>\n",
       "      <td>4.506148</td>\n",
       "      <td>-3.235349</td>\n",
       "    </tr>\n",
       "    <tr>\n",
       "      <th>3</th>\n",
       "      <td>3.569090</td>\n",
       "      <td>5.068347</td>\n",
       "      <td>-23.891922</td>\n",
       "    </tr>\n",
       "    <tr>\n",
       "      <th>4</th>\n",
       "      <td>-1.702460</td>\n",
       "      <td>6.905051</td>\n",
       "      <td>-22.125437</td>\n",
       "    </tr>\n",
       "  </tbody>\n",
       "</table>\n",
       "</div>"
      ],
      "text/plain": [
       "          0         1          2\n",
       "0  0.490142 -0.179654  11.536508\n",
       "1 -1.414793 -1.225605  11.828531\n",
       "2  0.943066  4.506148  -3.235349\n",
       "3  3.569090  5.068347 -23.891922\n",
       "4 -1.702460  6.905051 -22.125437"
      ]
     },
     "execution_count": 20,
     "metadata": {},
     "output_type": "execute_result"
    }
   ],
   "source": [
    "df_2.head()"
   ]
  },
  {
   "cell_type": "code",
   "execution_count": null,
   "metadata": {},
   "outputs": [],
   "source": []
  }
 ],
 "metadata": {
  "kernelspec": {
   "display_name": "Python 3",
   "language": "python",
   "name": "python3"
  },
  "language_info": {
   "codemirror_mode": {
    "name": "ipython",
    "version": 3
   },
   "file_extension": ".py",
   "mimetype": "text/x-python",
   "name": "python",
   "nbconvert_exporter": "python",
   "pygments_lexer": "ipython3",
   "version": "3.6.10"
  }
 },
 "nbformat": 4,
 "nbformat_minor": 4
}
